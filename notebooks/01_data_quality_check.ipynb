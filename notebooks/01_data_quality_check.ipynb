{
 "cells": [
  {
   "cell_type": "code",
   "execution_count": 1,
   "metadata": {},
   "outputs": [
    {
     "data": {
      "text/html": [
       "<pre style=\"white-space:pre;overflow-x:auto;line-height:normal;font-family:Menlo,'DejaVu Sans Mono',consolas,'Courier New',monospace\"><span style=\"color: #7fbfbf; text-decoration-color: #7fbfbf\">[08/06/24 18:12:04] </span><span style=\"color: #000080; text-decoration-color: #000080\">INFO    </span> Using                                                                  <a href=\"file:///Users/winsonyeap/miniconda3/envs/credit-card-payment-default-prediction/lib/python3.11/site-packages/kedro/framework/project/__init__.py\" target=\"_blank\"><span style=\"color: #7f7f7f; text-decoration-color: #7f7f7f\">__init__.py</span></a><span style=\"color: #7f7f7f; text-decoration-color: #7f7f7f\">:</span><a href=\"file:///Users/winsonyeap/miniconda3/envs/credit-card-payment-default-prediction/lib/python3.11/site-packages/kedro/framework/project/__init__.py#246\" target=\"_blank\"><span style=\"color: #7f7f7f; text-decoration-color: #7f7f7f\">246</span></a>\n",
       "<span style=\"color: #7fbfbf; text-decoration-color: #7fbfbf\">                    </span>         <span style=\"color: #008000; text-decoration-color: #008000\">'/Users/winsonyeap/miniconda3/envs/credit-card-payment-default-predict</span> <span style=\"color: #7f7f7f; text-decoration-color: #7f7f7f\">               </span>\n",
       "<span style=\"color: #7fbfbf; text-decoration-color: #7fbfbf\">                    </span>         <span style=\"color: #008000; text-decoration-color: #008000\">ion/lib/python3.11/site-packages/kedro/framework/project/rich_logging.</span> <span style=\"color: #7f7f7f; text-decoration-color: #7f7f7f\">               </span>\n",
       "<span style=\"color: #7fbfbf; text-decoration-color: #7fbfbf\">                    </span>         <span style=\"color: #008000; text-decoration-color: #008000\">yml'</span> as logging configuration.                                         <span style=\"color: #7f7f7f; text-decoration-color: #7f7f7f\">               </span>\n",
       "</pre>\n"
      ],
      "text/plain": [
       "\u001b[2;36m[08/06/24 18:12:04]\u001b[0m\u001b[2;36m \u001b[0m\u001b[34mINFO    \u001b[0m Using                                                                  \u001b]8;id=23801;file:///Users/winsonyeap/miniconda3/envs/credit-card-payment-default-prediction/lib/python3.11/site-packages/kedro/framework/project/__init__.py\u001b\\\u001b[2m__init__.py\u001b[0m\u001b]8;;\u001b\\\u001b[2m:\u001b[0m\u001b]8;id=400628;file:///Users/winsonyeap/miniconda3/envs/credit-card-payment-default-prediction/lib/python3.11/site-packages/kedro/framework/project/__init__.py#246\u001b\\\u001b[2m246\u001b[0m\u001b]8;;\u001b\\\n",
       "\u001b[2;36m                    \u001b[0m         \u001b[32m'/Users/winsonyeap/miniconda3/envs/credit-card-payment-default-predict\u001b[0m \u001b[2m               \u001b[0m\n",
       "\u001b[2;36m                    \u001b[0m         \u001b[32mion/lib/python3.11/site-packages/kedro/framework/project/rich_logging.\u001b[0m \u001b[2m               \u001b[0m\n",
       "\u001b[2;36m                    \u001b[0m         \u001b[32myml'\u001b[0m as logging configuration.                                         \u001b[2m               \u001b[0m\n"
      ]
     },
     "metadata": {},
     "output_type": "display_data"
    },
    {
     "data": {
      "text/html": [
       "<pre style=\"white-space:pre;overflow-x:auto;line-height:normal;font-family:Menlo,'DejaVu Sans Mono',consolas,'Courier New',monospace\"><span style=\"color: #7fbfbf; text-decoration-color: #7fbfbf\">                    </span><span style=\"color: #000080; text-decoration-color: #000080\">INFO    </span> Registered line magic <span style=\"color: #008000; text-decoration-color: #008000\">'%reload_kedro'</span>                                   <a href=\"file:///Users/winsonyeap/miniconda3/envs/credit-card-payment-default-prediction/lib/python3.11/site-packages/kedro/ipython/__init__.py\" target=\"_blank\"><span style=\"color: #7f7f7f; text-decoration-color: #7f7f7f\">__init__.py</span></a><span style=\"color: #7f7f7f; text-decoration-color: #7f7f7f\">:</span><a href=\"file:///Users/winsonyeap/miniconda3/envs/credit-card-payment-default-prediction/lib/python3.11/site-packages/kedro/ipython/__init__.py#58\" target=\"_blank\"><span style=\"color: #7f7f7f; text-decoration-color: #7f7f7f\">58</span></a>\n",
       "</pre>\n"
      ],
      "text/plain": [
       "\u001b[2;36m                   \u001b[0m\u001b[2;36m \u001b[0m\u001b[34mINFO    \u001b[0m Registered line magic \u001b[32m'%reload_kedro'\u001b[0m                                   \u001b]8;id=977697;file:///Users/winsonyeap/miniconda3/envs/credit-card-payment-default-prediction/lib/python3.11/site-packages/kedro/ipython/__init__.py\u001b\\\u001b[2m__init__.py\u001b[0m\u001b]8;;\u001b\\\u001b[2m:\u001b[0m\u001b]8;id=219336;file:///Users/winsonyeap/miniconda3/envs/credit-card-payment-default-prediction/lib/python3.11/site-packages/kedro/ipython/__init__.py#58\u001b\\\u001b[2m58\u001b[0m\u001b]8;;\u001b\\\n"
      ]
     },
     "metadata": {},
     "output_type": "display_data"
    },
    {
     "data": {
      "text/html": [
       "<pre style=\"white-space:pre;overflow-x:auto;line-height:normal;font-family:Menlo,'DejaVu Sans Mono',consolas,'Courier New',monospace\"><span style=\"color: #7fbfbf; text-decoration-color: #7fbfbf\">                    </span><span style=\"color: #000080; text-decoration-color: #000080\">INFO    </span> Registered line magic <span style=\"color: #008000; text-decoration-color: #008000\">'%load_node'</span>                                      <a href=\"file:///Users/winsonyeap/miniconda3/envs/credit-card-payment-default-prediction/lib/python3.11/site-packages/kedro/ipython/__init__.py\" target=\"_blank\"><span style=\"color: #7f7f7f; text-decoration-color: #7f7f7f\">__init__.py</span></a><span style=\"color: #7f7f7f; text-decoration-color: #7f7f7f\">:</span><a href=\"file:///Users/winsonyeap/miniconda3/envs/credit-card-payment-default-prediction/lib/python3.11/site-packages/kedro/ipython/__init__.py#60\" target=\"_blank\"><span style=\"color: #7f7f7f; text-decoration-color: #7f7f7f\">60</span></a>\n",
       "</pre>\n"
      ],
      "text/plain": [
       "\u001b[2;36m                   \u001b[0m\u001b[2;36m \u001b[0m\u001b[34mINFO    \u001b[0m Registered line magic \u001b[32m'%load_node'\u001b[0m                                      \u001b]8;id=236176;file:///Users/winsonyeap/miniconda3/envs/credit-card-payment-default-prediction/lib/python3.11/site-packages/kedro/ipython/__init__.py\u001b\\\u001b[2m__init__.py\u001b[0m\u001b]8;;\u001b\\\u001b[2m:\u001b[0m\u001b]8;id=785438;file:///Users/winsonyeap/miniconda3/envs/credit-card-payment-default-prediction/lib/python3.11/site-packages/kedro/ipython/__init__.py#60\u001b\\\u001b[2m60\u001b[0m\u001b]8;;\u001b\\\n"
      ]
     },
     "metadata": {},
     "output_type": "display_data"
    },
    {
     "data": {
      "text/html": [
       "<pre style=\"white-space:pre;overflow-x:auto;line-height:normal;font-family:Menlo,'DejaVu Sans Mono',consolas,'Courier New',monospace\"><span style=\"color: #7fbfbf; text-decoration-color: #7fbfbf\">                    </span><span style=\"color: #000080; text-decoration-color: #000080\">INFO    </span> Resolved project path as: <span style=\"color: #800080; text-decoration-color: #800080\">/Users/winsonyeap/Documents/</span><span style=\"color: #ff00ff; text-decoration-color: #ff00ff\">0</span> Data Science/<span style=\"color: #008080; text-decoration-color: #008080; font-weight: bold\">0</span> <a href=\"file:///Users/winsonyeap/miniconda3/envs/credit-card-payment-default-prediction/lib/python3.11/site-packages/kedro/ipython/__init__.py\" target=\"_blank\"><span style=\"color: #7f7f7f; text-decoration-color: #7f7f7f\">__init__.py</span></a><span style=\"color: #7f7f7f; text-decoration-color: #7f7f7f\">:</span><a href=\"file:///Users/winsonyeap/miniconda3/envs/credit-card-payment-default-prediction/lib/python3.11/site-packages/kedro/ipython/__init__.py#175\" target=\"_blank\"><span style=\"color: #7f7f7f; text-decoration-color: #7f7f7f\">175</span></a>\n",
       "<span style=\"color: #7fbfbf; text-decoration-color: #7fbfbf\">                    </span>         Study Projects/credit-card-payment-default-prediction.                 <span style=\"color: #7f7f7f; text-decoration-color: #7f7f7f\">               </span>\n",
       "<span style=\"color: #7fbfbf; text-decoration-color: #7fbfbf\">                    </span>         To set a different path, run <span style=\"color: #008000; text-decoration-color: #008000\">'%reload_kedro &lt;project_root&gt;'</span>            <span style=\"color: #7f7f7f; text-decoration-color: #7f7f7f\">               </span>\n",
       "</pre>\n"
      ],
      "text/plain": [
       "\u001b[2;36m                   \u001b[0m\u001b[2;36m \u001b[0m\u001b[34mINFO    \u001b[0m Resolved project path as: \u001b[35m/Users/winsonyeap/Documents/\u001b[0m\u001b[95m0\u001b[0m Data Science/\u001b[1;36m0\u001b[0m \u001b]8;id=977212;file:///Users/winsonyeap/miniconda3/envs/credit-card-payment-default-prediction/lib/python3.11/site-packages/kedro/ipython/__init__.py\u001b\\\u001b[2m__init__.py\u001b[0m\u001b]8;;\u001b\\\u001b[2m:\u001b[0m\u001b]8;id=486521;file:///Users/winsonyeap/miniconda3/envs/credit-card-payment-default-prediction/lib/python3.11/site-packages/kedro/ipython/__init__.py#175\u001b\\\u001b[2m175\u001b[0m\u001b]8;;\u001b\\\n",
       "\u001b[2;36m                    \u001b[0m         Study Projects/credit-card-payment-default-prediction.                 \u001b[2m               \u001b[0m\n",
       "\u001b[2;36m                    \u001b[0m         To set a different path, run \u001b[32m'%reload_kedro \u001b[0m\u001b[32m<\u001b[0m\u001b[32mproject_root\u001b[0m\u001b[32m>\u001b[0m\u001b[32m'\u001b[0m            \u001b[2m               \u001b[0m\n"
      ]
     },
     "metadata": {},
     "output_type": "display_data"
    },
    {
     "data": {
      "text/html": [
       "<pre style=\"white-space:pre;overflow-x:auto;line-height:normal;font-family:Menlo,'DejaVu Sans Mono',consolas,'Courier New',monospace\"><span style=\"color: #7fbfbf; text-decoration-color: #7fbfbf\">[08/06/24 18:12:05] </span><span style=\"color: #000080; text-decoration-color: #000080\">INFO    </span> Kedro project Credit Card Payment Default Prediction                   <a href=\"file:///Users/winsonyeap/miniconda3/envs/credit-card-payment-default-prediction/lib/python3.11/site-packages/kedro/ipython/__init__.py\" target=\"_blank\"><span style=\"color: #7f7f7f; text-decoration-color: #7f7f7f\">__init__.py</span></a><span style=\"color: #7f7f7f; text-decoration-color: #7f7f7f\">:</span><a href=\"file:///Users/winsonyeap/miniconda3/envs/credit-card-payment-default-prediction/lib/python3.11/site-packages/kedro/ipython/__init__.py#141\" target=\"_blank\"><span style=\"color: #7f7f7f; text-decoration-color: #7f7f7f\">141</span></a>\n",
       "</pre>\n"
      ],
      "text/plain": [
       "\u001b[2;36m[08/06/24 18:12:05]\u001b[0m\u001b[2;36m \u001b[0m\u001b[34mINFO    \u001b[0m Kedro project Credit Card Payment Default Prediction                   \u001b]8;id=328069;file:///Users/winsonyeap/miniconda3/envs/credit-card-payment-default-prediction/lib/python3.11/site-packages/kedro/ipython/__init__.py\u001b\\\u001b[2m__init__.py\u001b[0m\u001b]8;;\u001b\\\u001b[2m:\u001b[0m\u001b]8;id=794670;file:///Users/winsonyeap/miniconda3/envs/credit-card-payment-default-prediction/lib/python3.11/site-packages/kedro/ipython/__init__.py#141\u001b\\\u001b[2m141\u001b[0m\u001b]8;;\u001b\\\n"
      ]
     },
     "metadata": {},
     "output_type": "display_data"
    },
    {
     "data": {
      "text/html": [
       "<pre style=\"white-space:pre;overflow-x:auto;line-height:normal;font-family:Menlo,'DejaVu Sans Mono',consolas,'Courier New',monospace\"><span style=\"color: #7fbfbf; text-decoration-color: #7fbfbf\">                    </span><span style=\"color: #000080; text-decoration-color: #000080\">INFO    </span> Defined global variable <span style=\"color: #008000; text-decoration-color: #008000\">'context'</span>, <span style=\"color: #008000; text-decoration-color: #008000\">'session'</span>, <span style=\"color: #008000; text-decoration-color: #008000\">'catalog'</span> and            <a href=\"file:///Users/winsonyeap/miniconda3/envs/credit-card-payment-default-prediction/lib/python3.11/site-packages/kedro/ipython/__init__.py\" target=\"_blank\"><span style=\"color: #7f7f7f; text-decoration-color: #7f7f7f\">__init__.py</span></a><span style=\"color: #7f7f7f; text-decoration-color: #7f7f7f\">:</span><a href=\"file:///Users/winsonyeap/miniconda3/envs/credit-card-payment-default-prediction/lib/python3.11/site-packages/kedro/ipython/__init__.py#142\" target=\"_blank\"><span style=\"color: #7f7f7f; text-decoration-color: #7f7f7f\">142</span></a>\n",
       "<span style=\"color: #7fbfbf; text-decoration-color: #7fbfbf\">                    </span>         <span style=\"color: #008000; text-decoration-color: #008000\">'pipelines'</span>                                                            <span style=\"color: #7f7f7f; text-decoration-color: #7f7f7f\">               </span>\n",
       "</pre>\n"
      ],
      "text/plain": [
       "\u001b[2;36m                   \u001b[0m\u001b[2;36m \u001b[0m\u001b[34mINFO    \u001b[0m Defined global variable \u001b[32m'context'\u001b[0m, \u001b[32m'session'\u001b[0m, \u001b[32m'catalog'\u001b[0m and            \u001b]8;id=129390;file:///Users/winsonyeap/miniconda3/envs/credit-card-payment-default-prediction/lib/python3.11/site-packages/kedro/ipython/__init__.py\u001b\\\u001b[2m__init__.py\u001b[0m\u001b]8;;\u001b\\\u001b[2m:\u001b[0m\u001b]8;id=913035;file:///Users/winsonyeap/miniconda3/envs/credit-card-payment-default-prediction/lib/python3.11/site-packages/kedro/ipython/__init__.py#142\u001b\\\u001b[2m142\u001b[0m\u001b]8;;\u001b\\\n",
       "\u001b[2;36m                    \u001b[0m         \u001b[32m'pipelines'\u001b[0m                                                            \u001b[2m               \u001b[0m\n"
      ]
     },
     "metadata": {},
     "output_type": "display_data"
    },
    {
     "data": {
      "text/html": [
       "<pre style=\"white-space:pre;overflow-x:auto;line-height:normal;font-family:Menlo,'DejaVu Sans Mono',consolas,'Courier New',monospace\"><span style=\"color: #7fbfbf; text-decoration-color: #7fbfbf\">[08/06/24 18:12:06] </span><span style=\"color: #000080; text-decoration-color: #000080\">INFO    </span> Registered line magic <span style=\"color: #008000; text-decoration-color: #008000\">'run_viz'</span>                                        <a href=\"file:///Users/winsonyeap/miniconda3/envs/credit-card-payment-default-prediction/lib/python3.11/site-packages/kedro/ipython/__init__.py\" target=\"_blank\"><span style=\"color: #7f7f7f; text-decoration-color: #7f7f7f\">__init__.py</span></a><span style=\"color: #7f7f7f; text-decoration-color: #7f7f7f\">:</span><a href=\"file:///Users/winsonyeap/miniconda3/envs/credit-card-payment-default-prediction/lib/python3.11/site-packages/kedro/ipython/__init__.py#148\" target=\"_blank\"><span style=\"color: #7f7f7f; text-decoration-color: #7f7f7f\">148</span></a>\n",
       "</pre>\n"
      ],
      "text/plain": [
       "\u001b[2;36m[08/06/24 18:12:06]\u001b[0m\u001b[2;36m \u001b[0m\u001b[34mINFO    \u001b[0m Registered line magic \u001b[32m'run_viz'\u001b[0m                                        \u001b]8;id=107635;file:///Users/winsonyeap/miniconda3/envs/credit-card-payment-default-prediction/lib/python3.11/site-packages/kedro/ipython/__init__.py\u001b\\\u001b[2m__init__.py\u001b[0m\u001b]8;;\u001b\\\u001b[2m:\u001b[0m\u001b]8;id=338731;file:///Users/winsonyeap/miniconda3/envs/credit-card-payment-default-prediction/lib/python3.11/site-packages/kedro/ipython/__init__.py#148\u001b\\\u001b[2m148\u001b[0m\u001b]8;;\u001b\\\n"
      ]
     },
     "metadata": {},
     "output_type": "display_data"
    }
   ],
   "source": [
    "# Kedro initialisation (for notebooks only)\n",
    "%load_ext kedro.ipython"
   ]
  },
  {
   "cell_type": "code",
   "execution_count": 2,
   "metadata": {},
   "outputs": [],
   "source": [
    "import logging\n",
    "import sys\n",
    "import warnings\n",
    "\n",
    "import matplotlib.pyplot as plt\n",
    "import pandas as pd\n",
    "import seaborn as sns\n",
    "\n",
    "sys.path.append(\"..\")\n",
    "from src.credit_card_payment_default_prediction.pipelines.data_processing.nodes import preprocess_dtypes\n",
    "\n",
    "pd.set_option('display.width', None)\n",
    "pd.set_option('display.max_columns', None)\n",
    "\n",
    "_logger = logging.getLogger(__name__)\n",
    "_logger.setLevel(logging.DEBUG)\n",
    "\n",
    "warnings.filterwarnings(\"ignore\")"
   ]
  },
  {
   "cell_type": "code",
   "execution_count": 3,
   "metadata": {},
   "outputs": [
    {
     "data": {
      "text/html": [
       "<pre style=\"white-space:pre;overflow-x:auto;line-height:normal;font-family:Menlo,'DejaVu Sans Mono',consolas,'Courier New',monospace\"></pre>\n"
      ],
      "text/plain": []
     },
     "metadata": {},
     "output_type": "display_data"
    },
    {
     "data": {
      "text/plain": [
       "\u001b[1m[\u001b[0m\u001b[32m'train_dataset'\u001b[0m, \u001b[32m'test_dataset'\u001b[0m, \u001b[32m'preprocessed_train_data'\u001b[0m, \u001b[32m'preprocessed_test_data'\u001b[0m, \u001b[32m'parameters'\u001b[0m\u001b[1m]\u001b[0m"
      ]
     },
     "execution_count": 3,
     "metadata": {},
     "output_type": "execute_result"
    }
   ],
   "source": [
    "# Listing all the datasets in the catalog\n",
    "catalog.list()"
   ]
  },
  {
   "cell_type": "code",
   "execution_count": 4,
   "metadata": {},
   "outputs": [
    {
     "data": {
      "text/html": [
       "<pre style=\"white-space:pre;overflow-x:auto;line-height:normal;font-family:Menlo,'DejaVu Sans Mono',consolas,'Courier New',monospace\"><span style=\"color: #7fbfbf; text-decoration-color: #7fbfbf\">[08/06/24 18:12:07] </span><span style=\"color: #000080; text-decoration-color: #000080\">INFO    </span> Loading data from train_dataset <span style=\"font-weight: bold\">(</span>CSVDataset<span style=\"font-weight: bold\">)</span><span style=\"color: #808000; text-decoration-color: #808000\">...</span>                    <a href=\"file:///Users/winsonyeap/miniconda3/envs/credit-card-payment-default-prediction/lib/python3.11/site-packages/kedro/io/data_catalog.py\" target=\"_blank\"><span style=\"color: #7f7f7f; text-decoration-color: #7f7f7f\">data_catalog.py</span></a><span style=\"color: #7f7f7f; text-decoration-color: #7f7f7f\">:</span><a href=\"file:///Users/winsonyeap/miniconda3/envs/credit-card-payment-default-prediction/lib/python3.11/site-packages/kedro/io/data_catalog.py#537\" target=\"_blank\"><span style=\"color: #7f7f7f; text-decoration-color: #7f7f7f\">537</span></a>\n",
       "</pre>\n"
      ],
      "text/plain": [
       "\u001b[2;36m[08/06/24 18:12:07]\u001b[0m\u001b[2;36m \u001b[0m\u001b[34mINFO    \u001b[0m Loading data from train_dataset \u001b[1m(\u001b[0mCSVDataset\u001b[1m)\u001b[0m\u001b[33m...\u001b[0m                    \u001b]8;id=380270;file:///Users/winsonyeap/miniconda3/envs/credit-card-payment-default-prediction/lib/python3.11/site-packages/kedro/io/data_catalog.py\u001b\\\u001b[2mdata_catalog.py\u001b[0m\u001b]8;;\u001b\\\u001b[2m:\u001b[0m\u001b]8;id=757271;file:///Users/winsonyeap/miniconda3/envs/credit-card-payment-default-prediction/lib/python3.11/site-packages/kedro/io/data_catalog.py#537\u001b\\\u001b[2m537\u001b[0m\u001b]8;;\u001b\\\n"
      ]
     },
     "metadata": {},
     "output_type": "display_data"
    },
    {
     "data": {
      "text/html": [
       "<pre style=\"white-space:pre;overflow-x:auto;line-height:normal;font-family:Menlo,'DejaVu Sans Mono',consolas,'Courier New',monospace\"><span style=\"color: #7fbfbf; text-decoration-color: #7fbfbf\">                    </span><span style=\"color: #000080; text-decoration-color: #000080\">INFO    </span> Loading data from test_dataset <span style=\"font-weight: bold\">(</span>CSVDataset<span style=\"font-weight: bold\">)</span><span style=\"color: #808000; text-decoration-color: #808000\">...</span>                     <a href=\"file:///Users/winsonyeap/miniconda3/envs/credit-card-payment-default-prediction/lib/python3.11/site-packages/kedro/io/data_catalog.py\" target=\"_blank\"><span style=\"color: #7f7f7f; text-decoration-color: #7f7f7f\">data_catalog.py</span></a><span style=\"color: #7f7f7f; text-decoration-color: #7f7f7f\">:</span><a href=\"file:///Users/winsonyeap/miniconda3/envs/credit-card-payment-default-prediction/lib/python3.11/site-packages/kedro/io/data_catalog.py#537\" target=\"_blank\"><span style=\"color: #7f7f7f; text-decoration-color: #7f7f7f\">537</span></a>\n",
       "</pre>\n"
      ],
      "text/plain": [
       "\u001b[2;36m                   \u001b[0m\u001b[2;36m \u001b[0m\u001b[34mINFO    \u001b[0m Loading data from test_dataset \u001b[1m(\u001b[0mCSVDataset\u001b[1m)\u001b[0m\u001b[33m...\u001b[0m                     \u001b]8;id=79307;file:///Users/winsonyeap/miniconda3/envs/credit-card-payment-default-prediction/lib/python3.11/site-packages/kedro/io/data_catalog.py\u001b\\\u001b[2mdata_catalog.py\u001b[0m\u001b]8;;\u001b\\\u001b[2m:\u001b[0m\u001b]8;id=511972;file:///Users/winsonyeap/miniconda3/envs/credit-card-payment-default-prediction/lib/python3.11/site-packages/kedro/io/data_catalog.py#537\u001b\\\u001b[2m537\u001b[0m\u001b]8;;\u001b\\\n"
      ]
     },
     "metadata": {},
     "output_type": "display_data"
    }
   ],
   "source": [
    "# Loading datasets\n",
    "train_df = catalog.load(\"train_dataset\")\n",
    "test_df = catalog.load(\"test_dataset\")"
   ]
  },
  {
   "cell_type": "code",
   "execution_count": 5,
   "metadata": {},
   "outputs": [
    {
     "data": {
      "text/html": [
       "<pre style=\"white-space:pre;overflow-x:auto;line-height:normal;font-family:Menlo,'DejaVu Sans Mono',consolas,'Courier New',monospace\"><span style=\"color: #7fbfbf; text-decoration-color: #7fbfbf\">                    </span><span style=\"color: #008000; text-decoration-color: #008000\">DEBUG   </span> Number of customers in train dataset: <span style=\"color: #008080; text-decoration-color: #008080; font-weight: bold\">21</span>,<span style=\"color: #008080; text-decoration-color: #008080; font-weight: bold\">000</span>                            <a href=\"file:///var/folders/r9/18jz_4sx72x01pjrtpm3clqc0000gn/T/ipykernel_54691/785246413.py\" target=\"_blank\"><span style=\"color: #7f7f7f; text-decoration-color: #7f7f7f\">785246413.py</span></a><span style=\"color: #7f7f7f; text-decoration-color: #7f7f7f\">:</span><a href=\"file:///var/folders/r9/18jz_4sx72x01pjrtpm3clqc0000gn/T/ipykernel_54691/785246413.py#2\" target=\"_blank\"><span style=\"color: #7f7f7f; text-decoration-color: #7f7f7f\">2</span></a>\n",
       "</pre>\n"
      ],
      "text/plain": [
       "\u001b[2;36m                   \u001b[0m\u001b[2;36m \u001b[0m\u001b[32mDEBUG   \u001b[0m Number of customers in train dataset: \u001b[1;36m21\u001b[0m,\u001b[1;36m000\u001b[0m                            \u001b]8;id=419858;file:///var/folders/r9/18jz_4sx72x01pjrtpm3clqc0000gn/T/ipykernel_54691/785246413.py\u001b\\\u001b[2m785246413.py\u001b[0m\u001b]8;;\u001b\\\u001b[2m:\u001b[0m\u001b]8;id=143300;file:///var/folders/r9/18jz_4sx72x01pjrtpm3clqc0000gn/T/ipykernel_54691/785246413.py#2\u001b\\\u001b[2m2\u001b[0m\u001b]8;;\u001b\\\n"
      ]
     },
     "metadata": {},
     "output_type": "display_data"
    },
    {
     "data": {
      "text/html": [
       "<pre style=\"white-space:pre;overflow-x:auto;line-height:normal;font-family:Menlo,'DejaVu Sans Mono',consolas,'Courier New',monospace\"><span style=\"color: #7fbfbf; text-decoration-color: #7fbfbf\">                    </span><span style=\"color: #008000; text-decoration-color: #008000\">DEBUG   </span> Number of customers in test dataset: <span style=\"color: #008080; text-decoration-color: #008080; font-weight: bold\">9</span>,<span style=\"color: #008080; text-decoration-color: #008080; font-weight: bold\">000</span>                              <a href=\"file:///var/folders/r9/18jz_4sx72x01pjrtpm3clqc0000gn/T/ipykernel_54691/785246413.py\" target=\"_blank\"><span style=\"color: #7f7f7f; text-decoration-color: #7f7f7f\">785246413.py</span></a><span style=\"color: #7f7f7f; text-decoration-color: #7f7f7f\">:</span><a href=\"file:///var/folders/r9/18jz_4sx72x01pjrtpm3clqc0000gn/T/ipykernel_54691/785246413.py#3\" target=\"_blank\"><span style=\"color: #7f7f7f; text-decoration-color: #7f7f7f\">3</span></a>\n",
       "</pre>\n"
      ],
      "text/plain": [
       "\u001b[2;36m                   \u001b[0m\u001b[2;36m \u001b[0m\u001b[32mDEBUG   \u001b[0m Number of customers in test dataset: \u001b[1;36m9\u001b[0m,\u001b[1;36m000\u001b[0m                              \u001b]8;id=531664;file:///var/folders/r9/18jz_4sx72x01pjrtpm3clqc0000gn/T/ipykernel_54691/785246413.py\u001b\\\u001b[2m785246413.py\u001b[0m\u001b]8;;\u001b\\\u001b[2m:\u001b[0m\u001b]8;id=818689;file:///var/folders/r9/18jz_4sx72x01pjrtpm3clqc0000gn/T/ipykernel_54691/785246413.py#3\u001b\\\u001b[2m3\u001b[0m\u001b]8;;\u001b\\\n"
      ]
     },
     "metadata": {},
     "output_type": "display_data"
    },
    {
     "data": {
      "text/html": [
       "<pre style=\"white-space:pre;overflow-x:auto;line-height:normal;font-family:Menlo,'DejaVu Sans Mono',consolas,'Courier New',monospace\"><span style=\"color: #7fbfbf; text-decoration-color: #7fbfbf\">                    </span><span style=\"color: #008000; text-decoration-color: #008000\">DEBUG   </span> Number of common customers in train and test dataset: <span style=\"color: #008080; text-decoration-color: #008080; font-weight: bold\">0</span>                 <a href=\"file:///var/folders/r9/18jz_4sx72x01pjrtpm3clqc0000gn/T/ipykernel_54691/785246413.py\" target=\"_blank\"><span style=\"color: #7f7f7f; text-decoration-color: #7f7f7f\">785246413.py</span></a><span style=\"color: #7f7f7f; text-decoration-color: #7f7f7f\">:</span><a href=\"file:///var/folders/r9/18jz_4sx72x01pjrtpm3clqc0000gn/T/ipykernel_54691/785246413.py#6\" target=\"_blank\"><span style=\"color: #7f7f7f; text-decoration-color: #7f7f7f\">6</span></a>\n",
       "</pre>\n"
      ],
      "text/plain": [
       "\u001b[2;36m                   \u001b[0m\u001b[2;36m \u001b[0m\u001b[32mDEBUG   \u001b[0m Number of common customers in train and test dataset: \u001b[1;36m0\u001b[0m                 \u001b]8;id=126967;file:///var/folders/r9/18jz_4sx72x01pjrtpm3clqc0000gn/T/ipykernel_54691/785246413.py\u001b\\\u001b[2m785246413.py\u001b[0m\u001b]8;;\u001b\\\u001b[2m:\u001b[0m\u001b]8;id=44552;file:///var/folders/r9/18jz_4sx72x01pjrtpm3clqc0000gn/T/ipykernel_54691/785246413.py#6\u001b\\\u001b[2m6\u001b[0m\u001b]8;;\u001b\\\n"
      ]
     },
     "metadata": {},
     "output_type": "display_data"
    }
   ],
   "source": [
    "# Checking number of customers (ID) in train and test dataset, and also checking if there are any common customers in both datasets\n",
    "_logger.debug(f\"Number of customers in train dataset: {train_df['ID'].nunique():,}\")\n",
    "_logger.debug(f\"Number of customers in test dataset: {test_df['ID'].nunique():,}\")\n",
    "\n",
    "common_customers = set(train_df['ID'].unique()).intersection(set(test_df['ID'].unique()))\n",
    "_logger.debug(f\"Number of common customers in train and test dataset: {len(common_customers):,}\")"
   ]
  },
  {
   "cell_type": "markdown",
   "metadata": {},
   "source": [
    "### Data Dictionary\n",
    "\n",
    "- `ID` - Unique ID of each client\n",
    "- `LIMIT_BAL` - Amount of given credit (NT dollars): It includes both the individual consumer credit and his/her family (supplementary) credit\n",
    "- `SEX` - Gender (1=male, 2=female)\n",
    "- `EDUCATION` - (1=graduate school, 2=university, 3=high school, 4=others, 5=unknown, 6=unknown)\n",
    "- `MARRIAGE` - Marital status (1=married, 2=single, 3=divorced)\n",
    "- `AGE` - Age of the client\n",
    "- `PAY_0` - Repayment status in September, 2005 (-1=pay duly, 1=payment delay for one month, 2=payment delay for two months, … 8=payment delay for eight months, 9=payment delay for nine months and above)\n",
    "- `PAY_2` - Repayment status in August, 2005 (scale same as above)\n",
    "- `PAY_3` - Repayment status in July, 2005 (scale same as above)\n",
    "- `PAY_4` - Repayment status in June, 2005 (scale same as above)\n",
    "- `PAY_5` - Repayment status in May, 2005 (scale same as above)\n",
    "- `PAY_6` - Repayment status in April, 2005 (scale same as above)\n",
    "- `BILL_AMT1` - Amount of bill statement in September, 2005 (NT dollar)\n",
    "- `BILL_AMT2` - Amount of bill statement in August, 2005 (NT dollar)\n",
    "- `BILL_AMT3` - Amount of bill statement in July, 2005 (NT dollar)\n",
    "- `BILL_AMT4` - Amount of bill statement in June, 2005 (NT dollar)\n",
    "- `BILL_AMT5` - Amount of bill statement in May, 2005 (NT dollar)\n",
    "- `BILL_AMT6` - Amount of bill statement in April, 2005 (NT dollar)\n",
    "- `PAY_AMT1` - Amount of previous payment in September, 2005 (NT dollar)\n",
    "- `PAY_AMT2` - Amount of previous payment in August, 2005 (NT dollar)\n",
    "- `PAY_AMT3` - Amount of previous payment in July, 2005 (NT dollar)\n",
    "- `PAY_AMT4` - Amount of previous payment in June, 2005 (NT dollar)\n",
    "- `PAY_AMT5` - Amount of previous payment in May, 2005 (NT dollar)\n",
    "- `PAY_AMT6` - Amount of previous payment in April, 2005 (NT dollar)\n",
    "- `default_payment_next_month` - Target Variable: Default payment (1=yes, 0=no)"
   ]
  },
  {
   "cell_type": "code",
   "execution_count": 6,
   "metadata": {},
   "outputs": [
    {
     "data": {
      "text/html": [
       "<pre style=\"white-space:pre;overflow-x:auto;line-height:normal;font-family:Menlo,'DejaVu Sans Mono',consolas,'Courier New',monospace\"></pre>\n"
      ],
      "text/plain": []
     },
     "metadata": {},
     "output_type": "display_data"
    },
    {
     "data": {
      "text/html": [
       "<div>\n",
       "<style scoped>\n",
       "    .dataframe tbody tr th:only-of-type {\n",
       "        vertical-align: middle;\n",
       "    }\n",
       "\n",
       "    .dataframe tbody tr th {\n",
       "        vertical-align: top;\n",
       "    }\n",
       "\n",
       "    .dataframe thead th {\n",
       "        text-align: right;\n",
       "    }\n",
       "</style>\n",
       "<table border=\"1\" class=\"dataframe\">\n",
       "  <thead>\n",
       "    <tr style=\"text-align: right;\">\n",
       "      <th></th>\n",
       "      <th>ID</th>\n",
       "      <th>LIMIT_BAL</th>\n",
       "      <th>SEX</th>\n",
       "      <th>EDUCATION</th>\n",
       "      <th>MARRIAGE</th>\n",
       "      <th>AGE</th>\n",
       "      <th>PAY_0</th>\n",
       "      <th>PAY_2</th>\n",
       "      <th>PAY_3</th>\n",
       "      <th>PAY_4</th>\n",
       "      <th>PAY_5</th>\n",
       "      <th>PAY_6</th>\n",
       "      <th>BILL_AMT1</th>\n",
       "      <th>BILL_AMT2</th>\n",
       "      <th>BILL_AMT3</th>\n",
       "      <th>BILL_AMT4</th>\n",
       "      <th>BILL_AMT5</th>\n",
       "      <th>BILL_AMT6</th>\n",
       "      <th>PAY_AMT1</th>\n",
       "      <th>PAY_AMT2</th>\n",
       "      <th>PAY_AMT3</th>\n",
       "      <th>PAY_AMT4</th>\n",
       "      <th>PAY_AMT5</th>\n",
       "      <th>PAY_AMT6</th>\n",
       "      <th>default_payment_next_month</th>\n",
       "    </tr>\n",
       "  </thead>\n",
       "  <tbody>\n",
       "    <tr>\n",
       "      <th>20999</th>\n",
       "      <td>18049</td>\n",
       "      <td>90000</td>\n",
       "      <td>Male</td>\n",
       "      <td>HighSchool</td>\n",
       "      <td>Married</td>\n",
       "      <td>44</td>\n",
       "      <td>1</td>\n",
       "      <td>-2</td>\n",
       "      <td>-2</td>\n",
       "      <td>-2</td>\n",
       "      <td>-2</td>\n",
       "      <td>-2</td>\n",
       "      <td>0</td>\n",
       "      <td>0</td>\n",
       "      <td>0</td>\n",
       "      <td>0</td>\n",
       "      <td>0</td>\n",
       "      <td>0</td>\n",
       "      <td>0</td>\n",
       "      <td>0</td>\n",
       "      <td>0</td>\n",
       "      <td>0</td>\n",
       "      <td>0</td>\n",
       "      <td>0</td>\n",
       "      <td>1</td>\n",
       "    </tr>\n",
       "    <tr>\n",
       "      <th>10325</th>\n",
       "      <td>9895</td>\n",
       "      <td>270000</td>\n",
       "      <td>Female</td>\n",
       "      <td>University</td>\n",
       "      <td>Married</td>\n",
       "      <td>42</td>\n",
       "      <td>0</td>\n",
       "      <td>0</td>\n",
       "      <td>0</td>\n",
       "      <td>0</td>\n",
       "      <td>0</td>\n",
       "      <td>0</td>\n",
       "      <td>225245</td>\n",
       "      <td>211517</td>\n",
       "      <td>165608</td>\n",
       "      <td>223292</td>\n",
       "      <td>220582</td>\n",
       "      <td>218090</td>\n",
       "      <td>10000</td>\n",
       "      <td>118000</td>\n",
       "      <td>113300</td>\n",
       "      <td>9000</td>\n",
       "      <td>8000</td>\n",
       "      <td>10000</td>\n",
       "      <td>0</td>\n",
       "    </tr>\n",
       "    <tr>\n",
       "      <th>10028</th>\n",
       "      <td>7008</td>\n",
       "      <td>500000</td>\n",
       "      <td>Female</td>\n",
       "      <td>University</td>\n",
       "      <td>Married</td>\n",
       "      <td>44</td>\n",
       "      <td>0</td>\n",
       "      <td>0</td>\n",
       "      <td>0</td>\n",
       "      <td>0</td>\n",
       "      <td>0</td>\n",
       "      <td>0</td>\n",
       "      <td>38034</td>\n",
       "      <td>39044</td>\n",
       "      <td>38458</td>\n",
       "      <td>39222</td>\n",
       "      <td>40043</td>\n",
       "      <td>40854</td>\n",
       "      <td>1632</td>\n",
       "      <td>1639</td>\n",
       "      <td>1403</td>\n",
       "      <td>1452</td>\n",
       "      <td>1475</td>\n",
       "      <td>1117</td>\n",
       "      <td>0</td>\n",
       "    </tr>\n",
       "    <tr>\n",
       "      <th>20975</th>\n",
       "      <td>18961</td>\n",
       "      <td>200000</td>\n",
       "      <td>Female</td>\n",
       "      <td>GraduateSchool</td>\n",
       "      <td>Single</td>\n",
       "      <td>29</td>\n",
       "      <td>-2</td>\n",
       "      <td>-2</td>\n",
       "      <td>-2</td>\n",
       "      <td>-2</td>\n",
       "      <td>-2</td>\n",
       "      <td>-1</td>\n",
       "      <td>-792</td>\n",
       "      <td>-792</td>\n",
       "      <td>-792</td>\n",
       "      <td>-792</td>\n",
       "      <td>-792</td>\n",
       "      <td>69708</td>\n",
       "      <td>0</td>\n",
       "      <td>792</td>\n",
       "      <td>0</td>\n",
       "      <td>0</td>\n",
       "      <td>70500</td>\n",
       "      <td>1688</td>\n",
       "      <td>1</td>\n",
       "    </tr>\n",
       "    <tr>\n",
       "      <th>3722</th>\n",
       "      <td>11740</td>\n",
       "      <td>300000</td>\n",
       "      <td>Female</td>\n",
       "      <td>GraduateSchool</td>\n",
       "      <td>Married</td>\n",
       "      <td>47</td>\n",
       "      <td>2</td>\n",
       "      <td>2</td>\n",
       "      <td>2</td>\n",
       "      <td>2</td>\n",
       "      <td>2</td>\n",
       "      <td>2</td>\n",
       "      <td>5000</td>\n",
       "      <td>5000</td>\n",
       "      <td>5000</td>\n",
       "      <td>5000</td>\n",
       "      <td>5000</td>\n",
       "      <td>5000</td>\n",
       "      <td>0</td>\n",
       "      <td>0</td>\n",
       "      <td>0</td>\n",
       "      <td>0</td>\n",
       "      <td>0</td>\n",
       "      <td>0</td>\n",
       "      <td>1</td>\n",
       "    </tr>\n",
       "  </tbody>\n",
       "</table>\n",
       "</div>"
      ],
      "text/plain": [
       "\n",
       "          ID  LIMIT_BAL     SEX       EDUCATION MARRIAGE  AGE  PAY_0  PAY_2  \\\n",
       "\u001b[1;36m20999\u001b[0m  \u001b[1;36m18049\u001b[0m      \u001b[1;36m90000\u001b[0m    Male      HighSchool  Married   \u001b[1;36m44\u001b[0m      \u001b[1;36m1\u001b[0m     \u001b[1;36m-2\u001b[0m   \n",
       "\u001b[1;36m10325\u001b[0m   \u001b[1;36m9895\u001b[0m     \u001b[1;36m270000\u001b[0m  Female      University  Married   \u001b[1;36m42\u001b[0m      \u001b[1;36m0\u001b[0m      \u001b[1;36m0\u001b[0m   \n",
       "\u001b[1;36m10028\u001b[0m   \u001b[1;36m7008\u001b[0m     \u001b[1;36m500000\u001b[0m  Female      University  Married   \u001b[1;36m44\u001b[0m      \u001b[1;36m0\u001b[0m      \u001b[1;36m0\u001b[0m   \n",
       "\u001b[1;36m20975\u001b[0m  \u001b[1;36m18961\u001b[0m     \u001b[1;36m200000\u001b[0m  Female  GraduateSchool   Single   \u001b[1;36m29\u001b[0m     \u001b[1;36m-2\u001b[0m     \u001b[1;36m-2\u001b[0m   \n",
       "\u001b[1;36m3722\u001b[0m   \u001b[1;36m11740\u001b[0m     \u001b[1;36m300000\u001b[0m  Female  GraduateSchool  Married   \u001b[1;36m47\u001b[0m      \u001b[1;36m2\u001b[0m      \u001b[1;36m2\u001b[0m   \n",
       "\n",
       "       PAY_3  PAY_4  PAY_5  PAY_6  BILL_AMT1  BILL_AMT2  BILL_AMT3  BILL_AMT4  \\\n",
       "\u001b[1;36m20999\u001b[0m     \u001b[1;36m-2\u001b[0m     \u001b[1;36m-2\u001b[0m     \u001b[1;36m-2\u001b[0m     \u001b[1;36m-2\u001b[0m          \u001b[1;36m0\u001b[0m          \u001b[1;36m0\u001b[0m          \u001b[1;36m0\u001b[0m          \u001b[1;36m0\u001b[0m   \n",
       "\u001b[1;36m10325\u001b[0m      \u001b[1;36m0\u001b[0m      \u001b[1;36m0\u001b[0m      \u001b[1;36m0\u001b[0m      \u001b[1;36m0\u001b[0m     \u001b[1;36m225245\u001b[0m     \u001b[1;36m211517\u001b[0m     \u001b[1;36m165608\u001b[0m     \u001b[1;36m223292\u001b[0m   \n",
       "\u001b[1;36m10028\u001b[0m      \u001b[1;36m0\u001b[0m      \u001b[1;36m0\u001b[0m      \u001b[1;36m0\u001b[0m      \u001b[1;36m0\u001b[0m      \u001b[1;36m38034\u001b[0m      \u001b[1;36m39044\u001b[0m      \u001b[1;36m38458\u001b[0m      \u001b[1;36m39222\u001b[0m   \n",
       "\u001b[1;36m20975\u001b[0m     \u001b[1;36m-2\u001b[0m     \u001b[1;36m-2\u001b[0m     \u001b[1;36m-2\u001b[0m     \u001b[1;36m-1\u001b[0m       \u001b[1;36m-792\u001b[0m       \u001b[1;36m-792\u001b[0m       \u001b[1;36m-792\u001b[0m       \u001b[1;36m-792\u001b[0m   \n",
       "\u001b[1;36m3722\u001b[0m       \u001b[1;36m2\u001b[0m      \u001b[1;36m2\u001b[0m      \u001b[1;36m2\u001b[0m      \u001b[1;36m2\u001b[0m       \u001b[1;36m5000\u001b[0m       \u001b[1;36m5000\u001b[0m       \u001b[1;36m5000\u001b[0m       \u001b[1;36m5000\u001b[0m   \n",
       "\n",
       "       BILL_AMT5  BILL_AMT6  PAY_AMT1  PAY_AMT2  PAY_AMT3  PAY_AMT4  PAY_AMT5  \\\n",
       "\u001b[1;36m20999\u001b[0m          \u001b[1;36m0\u001b[0m          \u001b[1;36m0\u001b[0m         \u001b[1;36m0\u001b[0m         \u001b[1;36m0\u001b[0m         \u001b[1;36m0\u001b[0m         \u001b[1;36m0\u001b[0m         \u001b[1;36m0\u001b[0m   \n",
       "\u001b[1;36m10325\u001b[0m     \u001b[1;36m220582\u001b[0m     \u001b[1;36m218090\u001b[0m     \u001b[1;36m10000\u001b[0m    \u001b[1;36m118000\u001b[0m    \u001b[1;36m113300\u001b[0m      \u001b[1;36m9000\u001b[0m      \u001b[1;36m8000\u001b[0m   \n",
       "\u001b[1;36m10028\u001b[0m      \u001b[1;36m40043\u001b[0m      \u001b[1;36m40854\u001b[0m      \u001b[1;36m1632\u001b[0m      \u001b[1;36m1639\u001b[0m      \u001b[1;36m1403\u001b[0m      \u001b[1;36m1452\u001b[0m      \u001b[1;36m1475\u001b[0m   \n",
       "\u001b[1;36m20975\u001b[0m       \u001b[1;36m-792\u001b[0m      \u001b[1;36m69708\u001b[0m         \u001b[1;36m0\u001b[0m       \u001b[1;36m792\u001b[0m         \u001b[1;36m0\u001b[0m         \u001b[1;36m0\u001b[0m     \u001b[1;36m70500\u001b[0m   \n",
       "\u001b[1;36m3722\u001b[0m        \u001b[1;36m5000\u001b[0m       \u001b[1;36m5000\u001b[0m         \u001b[1;36m0\u001b[0m         \u001b[1;36m0\u001b[0m         \u001b[1;36m0\u001b[0m         \u001b[1;36m0\u001b[0m         \u001b[1;36m0\u001b[0m   \n",
       "\n",
       "       PAY_AMT6  default_payment_next_month  \n",
       "\u001b[1;36m20999\u001b[0m         \u001b[1;36m0\u001b[0m                           \u001b[1;36m1\u001b[0m  \n",
       "\u001b[1;36m10325\u001b[0m     \u001b[1;36m10000\u001b[0m                           \u001b[1;36m0\u001b[0m  \n",
       "\u001b[1;36m10028\u001b[0m      \u001b[1;36m1117\u001b[0m                           \u001b[1;36m0\u001b[0m  \n",
       "\u001b[1;36m20975\u001b[0m      \u001b[1;36m1688\u001b[0m                           \u001b[1;36m1\u001b[0m  \n",
       "\u001b[1;36m3722\u001b[0m          \u001b[1;36m0\u001b[0m                           \u001b[1;36m1\u001b[0m  "
      ]
     },
     "execution_count": 6,
     "metadata": {},
     "output_type": "execute_result"
    }
   ],
   "source": [
    "train_df = preprocess_dtypes(train_df)\n",
    "train_df.sample(5)"
   ]
  },
  {
   "cell_type": "code",
   "execution_count": 7,
   "metadata": {},
   "outputs": [
    {
     "data": {
      "text/html": [
       "<pre style=\"white-space:pre;overflow-x:auto;line-height:normal;font-family:Menlo,'DejaVu Sans Mono',consolas,'Courier New',monospace\"></pre>\n"
      ],
      "text/plain": []
     },
     "metadata": {},
     "output_type": "display_data"
    },
    {
     "data": {
      "text/plain": [
       "\n",
       "default_payment_next_month\n",
       "\u001b[1;36m0\u001b[0m    \u001b[1;36m16355\u001b[0m\n",
       "\u001b[1;36m1\u001b[0m     \u001b[1;36m4645\u001b[0m\n",
       "Name: count, dtype: int64"
      ]
     },
     "execution_count": 7,
     "metadata": {},
     "output_type": "execute_result"
    }
   ],
   "source": [
    "train_df['default_payment_next_month'].value_counts()"
   ]
  },
  {
   "cell_type": "markdown",
   "metadata": {},
   "source": [
    "### Missing Data Check"
   ]
  },
  {
   "cell_type": "code",
   "execution_count": 8,
   "metadata": {},
   "outputs": [
    {
     "data": {
      "text/html": [
       "<pre style=\"white-space:pre;overflow-x:auto;line-height:normal;font-family:Menlo,'DejaVu Sans Mono',consolas,'Courier New',monospace\"></pre>\n"
      ],
      "text/plain": []
     },
     "metadata": {},
     "output_type": "display_data"
    },
    {
     "data": {
      "text/html": [
       "<div>\n",
       "<style scoped>\n",
       "    .dataframe tbody tr th:only-of-type {\n",
       "        vertical-align: middle;\n",
       "    }\n",
       "\n",
       "    .dataframe tbody tr th {\n",
       "        vertical-align: top;\n",
       "    }\n",
       "\n",
       "    .dataframe thead th {\n",
       "        text-align: right;\n",
       "    }\n",
       "</style>\n",
       "<table border=\"1\" class=\"dataframe\">\n",
       "  <thead>\n",
       "    <tr style=\"text-align: right;\">\n",
       "      <th></th>\n",
       "      <th>ID</th>\n",
       "      <th>LIMIT_BAL</th>\n",
       "      <th>SEX</th>\n",
       "      <th>EDUCATION</th>\n",
       "      <th>MARRIAGE</th>\n",
       "      <th>AGE</th>\n",
       "      <th>PAY_0</th>\n",
       "      <th>PAY_2</th>\n",
       "      <th>PAY_3</th>\n",
       "      <th>PAY_4</th>\n",
       "      <th>PAY_5</th>\n",
       "      <th>PAY_6</th>\n",
       "      <th>BILL_AMT1</th>\n",
       "      <th>BILL_AMT2</th>\n",
       "      <th>BILL_AMT3</th>\n",
       "      <th>BILL_AMT4</th>\n",
       "      <th>BILL_AMT5</th>\n",
       "      <th>BILL_AMT6</th>\n",
       "      <th>PAY_AMT1</th>\n",
       "      <th>PAY_AMT2</th>\n",
       "      <th>PAY_AMT3</th>\n",
       "      <th>PAY_AMT4</th>\n",
       "      <th>PAY_AMT5</th>\n",
       "      <th>PAY_AMT6</th>\n",
       "      <th>default_payment_next_month</th>\n",
       "    </tr>\n",
       "    <tr>\n",
       "      <th>dataset</th>\n",
       "      <th></th>\n",
       "      <th></th>\n",
       "      <th></th>\n",
       "      <th></th>\n",
       "      <th></th>\n",
       "      <th></th>\n",
       "      <th></th>\n",
       "      <th></th>\n",
       "      <th></th>\n",
       "      <th></th>\n",
       "      <th></th>\n",
       "      <th></th>\n",
       "      <th></th>\n",
       "      <th></th>\n",
       "      <th></th>\n",
       "      <th></th>\n",
       "      <th></th>\n",
       "      <th></th>\n",
       "      <th></th>\n",
       "      <th></th>\n",
       "      <th></th>\n",
       "      <th></th>\n",
       "      <th></th>\n",
       "      <th></th>\n",
       "      <th></th>\n",
       "    </tr>\n",
       "  </thead>\n",
       "  <tbody>\n",
       "    <tr>\n",
       "      <th>train</th>\n",
       "      <td>0</td>\n",
       "      <td>0</td>\n",
       "      <td>0</td>\n",
       "      <td>0</td>\n",
       "      <td>0</td>\n",
       "      <td>0</td>\n",
       "      <td>0</td>\n",
       "      <td>0</td>\n",
       "      <td>0</td>\n",
       "      <td>0</td>\n",
       "      <td>0</td>\n",
       "      <td>0</td>\n",
       "      <td>0</td>\n",
       "      <td>0</td>\n",
       "      <td>0</td>\n",
       "      <td>0</td>\n",
       "      <td>0</td>\n",
       "      <td>0</td>\n",
       "      <td>0</td>\n",
       "      <td>0</td>\n",
       "      <td>0</td>\n",
       "      <td>0</td>\n",
       "      <td>0</td>\n",
       "      <td>0</td>\n",
       "      <td>0.0</td>\n",
       "    </tr>\n",
       "    <tr>\n",
       "      <th>test</th>\n",
       "      <td>0</td>\n",
       "      <td>0</td>\n",
       "      <td>0</td>\n",
       "      <td>0</td>\n",
       "      <td>0</td>\n",
       "      <td>0</td>\n",
       "      <td>0</td>\n",
       "      <td>0</td>\n",
       "      <td>0</td>\n",
       "      <td>0</td>\n",
       "      <td>0</td>\n",
       "      <td>0</td>\n",
       "      <td>0</td>\n",
       "      <td>0</td>\n",
       "      <td>0</td>\n",
       "      <td>0</td>\n",
       "      <td>0</td>\n",
       "      <td>0</td>\n",
       "      <td>0</td>\n",
       "      <td>0</td>\n",
       "      <td>0</td>\n",
       "      <td>0</td>\n",
       "      <td>0</td>\n",
       "      <td>0</td>\n",
       "      <td>NaN</td>\n",
       "    </tr>\n",
       "  </tbody>\n",
       "</table>\n",
       "</div>"
      ],
      "text/plain": [
       "\n",
       "         ID  LIMIT_BAL  SEX  EDUCATION  MARRIAGE  AGE  PAY_0  PAY_2  PAY_3  \\\n",
       "dataset                                                                      \n",
       "train     \u001b[1;36m0\u001b[0m          \u001b[1;36m0\u001b[0m    \u001b[1;36m0\u001b[0m          \u001b[1;36m0\u001b[0m         \u001b[1;36m0\u001b[0m    \u001b[1;36m0\u001b[0m      \u001b[1;36m0\u001b[0m      \u001b[1;36m0\u001b[0m      \u001b[1;36m0\u001b[0m   \n",
       "test      \u001b[1;36m0\u001b[0m          \u001b[1;36m0\u001b[0m    \u001b[1;36m0\u001b[0m          \u001b[1;36m0\u001b[0m         \u001b[1;36m0\u001b[0m    \u001b[1;36m0\u001b[0m      \u001b[1;36m0\u001b[0m      \u001b[1;36m0\u001b[0m      \u001b[1;36m0\u001b[0m   \n",
       "\n",
       "         PAY_4  PAY_5  PAY_6  BILL_AMT1  BILL_AMT2  BILL_AMT3  BILL_AMT4  \\\n",
       "dataset                                                                    \n",
       "train        \u001b[1;36m0\u001b[0m      \u001b[1;36m0\u001b[0m      \u001b[1;36m0\u001b[0m          \u001b[1;36m0\u001b[0m          \u001b[1;36m0\u001b[0m          \u001b[1;36m0\u001b[0m          \u001b[1;36m0\u001b[0m   \n",
       "test         \u001b[1;36m0\u001b[0m      \u001b[1;36m0\u001b[0m      \u001b[1;36m0\u001b[0m          \u001b[1;36m0\u001b[0m          \u001b[1;36m0\u001b[0m          \u001b[1;36m0\u001b[0m          \u001b[1;36m0\u001b[0m   \n",
       "\n",
       "         BILL_AMT5  BILL_AMT6  PAY_AMT1  PAY_AMT2  PAY_AMT3  PAY_AMT4  \\\n",
       "dataset                                                                 \n",
       "train            \u001b[1;36m0\u001b[0m          \u001b[1;36m0\u001b[0m         \u001b[1;36m0\u001b[0m         \u001b[1;36m0\u001b[0m         \u001b[1;36m0\u001b[0m         \u001b[1;36m0\u001b[0m   \n",
       "test             \u001b[1;36m0\u001b[0m          \u001b[1;36m0\u001b[0m         \u001b[1;36m0\u001b[0m         \u001b[1;36m0\u001b[0m         \u001b[1;36m0\u001b[0m         \u001b[1;36m0\u001b[0m   \n",
       "\n",
       "         PAY_AMT5  PAY_AMT6  default_payment_next_month  \n",
       "dataset                                                  \n",
       "train           \u001b[1;36m0\u001b[0m         \u001b[1;36m0\u001b[0m                         \u001b[1;36m0.0\u001b[0m  \n",
       "test            \u001b[1;36m0\u001b[0m         \u001b[1;36m0\u001b[0m                         NaN  "
      ]
     },
     "execution_count": 8,
     "metadata": {},
     "output_type": "execute_result"
    }
   ],
   "source": [
    "pd.concat([\n",
    "    pd.DataFrame(train_df.isna().sum()).T.assign(dataset='train').set_index('dataset'),\n",
    "    pd.DataFrame(test_df.isna().sum()).T.assign(dataset='test').set_index('dataset'),\n",
    "])"
   ]
  },
  {
   "cell_type": "markdown",
   "metadata": {},
   "source": [
    "### Data Distribution"
   ]
  },
  {
   "cell_type": "code",
   "execution_count": 9,
   "metadata": {},
   "outputs": [
    {
     "data": {
      "text/html": [
       "<pre style=\"white-space:pre;overflow-x:auto;line-height:normal;font-family:Menlo,'DejaVu Sans Mono',consolas,'Courier New',monospace\"></pre>\n"
      ],
      "text/plain": []
     },
     "metadata": {},
     "output_type": "display_data"
    },
    {
     "data": {
      "image/png": "[encoded data removed]",
      "text/plain": [
       "\u001b[1m<\u001b[0m\u001b[1;95mFigure\u001b[0m\u001b[39m size 60\u001b[0m\u001b[1;36m0x400\u001b[0m\u001b[39m with \u001b[0m\u001b[1;36m1\u001b[0m\u001b[39m Axes\u001b[0m\u001b[1m>\u001b[0m"
      ]
     },
     "metadata": {},
     "output_type": "display_data"
    }
   ],
   "source": [
    "fig, ax = plt.subplots(figsize=(6, 4), constrained_layout=True)\n",
    "sns.histplot(data=train_df, x='LIMIT_BAL', hue='default_payment_next_month', bins=20, kde=True, ax=ax)\n",
    "fig.show()"
   ]
  },
  {
   "cell_type": "code",
   "execution_count": null,
   "metadata": {},
   "outputs": [],
   "source": []
  },
  {
   "cell_type": "code",
   "execution_count": null,
   "metadata": {},
   "outputs": [],
   "source": []
  },
  {
   "cell_type": "code",
   "execution_count": null,
   "metadata": {},
   "outputs": [],
   "source": []
  },
  {
   "cell_type": "code",
   "execution_count": null,
   "metadata": {},
   "outputs": [],
   "source": []
  },
  {
   "cell_type": "code",
   "execution_count": null,
   "metadata": {},
   "outputs": [],
   "source": []
  },
  {
   "cell_type": "code",
   "execution_count": null,
   "metadata": {},
   "outputs": [],
   "source": []
  },
  {
   "cell_type": "code",
   "execution_count": null,
   "metadata": {},
   "outputs": [],
   "source": []
  },
  {
   "cell_type": "code",
   "execution_count": null,
   "metadata": {},
   "outputs": [],
   "source": []
  },
  {
   "cell_type": "code",
   "execution_count": null,
   "metadata": {},
   "outputs": [],
   "source": []
  },
  {
   "cell_type": "code",
   "execution_count": null,
   "metadata": {},
   "outputs": [],
   "source": []
  },
  {
   "cell_type": "code",
   "execution_count": null,
   "metadata": {},
   "outputs": [],
   "source": []
  },
  {
   "cell_type": "code",
   "execution_count": null,
   "metadata": {},
   "outputs": [],
   "source": []
  },
  {
   "cell_type": "code",
   "execution_count": null,
   "metadata": {},
   "outputs": [],
   "source": []
  },
  {
   "cell_type": "code",
   "execution_count": null,
   "metadata": {},
   "outputs": [],
   "source": []
  },
  {
   "cell_type": "code",
   "execution_count": null,
   "metadata": {},
   "outputs": [],
   "source": []
  }
 ],
 "metadata": {
  "kernelspec": {
   "display_name": "Python 3",
   "language": "python",
   "name": "python3"
  },
  "language_info": {
   "codemirror_mode": {
    "name": "ipython",
    "version": 3
   },
   "file_extension": ".py",
   "mimetype": "text/x-python",
   "name": "python",
   "nbconvert_exporter": "python",
   "pygments_lexer": "ipython3",
   "version": "3.11.9"
  }
 },
 "nbformat": 4,
 "nbformat_minor": 2
}
